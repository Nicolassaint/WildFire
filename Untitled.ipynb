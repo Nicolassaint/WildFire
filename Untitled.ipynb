{
 "cells": [
  {
   "cell_type": "code",
   "execution_count": 14,
   "id": "01b45607",
   "metadata": {},
   "outputs": [],
   "source": [
    "import streamlit as st\n",
    "import pandas as pd\n",
    "import folium\n",
    "import nest_asyncio\n",
    "from datetime import datetime, timedelta\n",
    "from streamlit_folium import folium_static\n",
    "\n",
    "nest_asyncio.apply()\n",
    "\n",
    "# Chargement des données depuis un fichier CSV\n",
    "df = pd.read_csv('probabilites.csv', delimiter=';')\n",
    "\n",
    "# Fonction pour obtenir la probabilité d'incendie pour une commune à une date donnée\n",
    "def get_probabilite(date, commune):\n",
    "    probabilite = df[(df['commune'] == commune) & (df['date'] == date)]['probabilite'].values[0]\n",
    "    return probabilite\n",
    "\n",
    "# Création d'une carte de France\n",
    "m = folium.Map(location=[46.227638, 2.213749], zoom_start=6)\n",
    "\n",
    "# Ajout des marqueurs pour chaque commune avec la couleur correspondant à la probabilité\n",
    "for index, row in df.iterrows():\n",
    "    date = datetime.strptime(row['date'], '%d/%m/%Y')\n",
    "    commune = row['commune']\n",
    "    probabilite = float(row['probabilite'])\n",
    "    if date >= datetime.today():\n",
    "        color = 'green' if probabilite < 0.3 else 'orange' if probabilite < 0.7 else 'red'\n",
    "        folium.CircleMarker(location=[row['latitude'], row['longitude']], radius=5, color=color, fill=True, fill_color=color).add_to(m)\n",
    "\n",
    "# Affichage de la carte et du sélecteur de date\n",
    "folium_static(m)\n",
    "date = st.date_input(\"Sélectionnez une date dans le futur :\", value=datetime.today() + timedelta(days=1), min_value=datetime.today() + timedelta(days=1))\n",
    "\n",
    "# Affichage de la probabilité pour chaque commune pour la date sélectionnée\n",
    "for index, row in df.iterrows():\n",
    "    if datetime.strptime(row['date'], '%d/%m/%Y') == date:\n",
    "        commune = row['commune']\n",
    "        probabilite = float(row['probabilite'])\n",
    "        st.write(f\"Probabilité d'incendie pour {commune} le {date.strftime('%d/%m/%Y')} : {probabilite}\")\n"
   ]
  },
  {
   "cell_type": "code",
   "execution_count": null,
   "id": "c4cb14ff",
   "metadata": {},
   "outputs": [],
   "source": []
  }
 ],
 "metadata": {
  "kernelspec": {
   "display_name": "Python 3 (ipykernel)",
   "language": "python",
   "name": "python3"
  },
  "language_info": {
   "codemirror_mode": {
    "name": "ipython",
    "version": 3
   },
   "file_extension": ".py",
   "mimetype": "text/x-python",
   "name": "python",
   "nbconvert_exporter": "python",
   "pygments_lexer": "ipython3",
   "version": "3.7.16"
  }
 },
 "nbformat": 4,
 "nbformat_minor": 5
}
